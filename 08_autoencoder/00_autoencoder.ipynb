{
 "cells": [
  {
   "cell_type": "code",
   "execution_count": 1,
   "metadata": {},
   "outputs": [
    {
     "name": "stdout",
     "output_type": "stream",
     "text": [
      "Extracting ./mnist/data/train-images-idx3-ubyte.gz\n",
      "Extracting ./mnist/data/train-labels-idx1-ubyte.gz\n",
      "Extracting ./mnist/data/t10k-images-idx3-ubyte.gz\n",
      "Extracting ./mnist/data/t10k-labels-idx1-ubyte.gz\n"
     ]
    }
   ],
   "source": [
    "#!/bin/env python\n",
    "#coding: utf-8\n",
    "\n",
    "import tensorflow as tf\n",
    "import numpy as np\n",
    "import matplotlib.pyplot as plt\n",
    "\n",
    "from tensorflow.examples.tutorials.mnist import input_data\n",
    "mnist = input_data.read_data_sets('./mnist/data/', one_hot=True)\n",
    "\n",
    "learning_rate = 0.01\n",
    "training_epoch = 20\n",
    "batch_size = 100\n",
    "n_hidden = 256\n",
    "n_input = 28*28\n",
    "\n",
    "X = tf.placeholder(tf.float32, [None, n_input])\n",
    "\n",
    "W_encode = tf.Variable(tf.random_normal([n_input, n_hidden]))\n",
    "b_encode = tf.Variable(tf.random_normal([n_hidden]))\n",
    "encoder = tf.nn.sigmoid(tf.add(tf.matmul(X, W_encode), b_encode))\n",
    "\n",
    "W_decode = tf.Variable(tf.random_normal([n_hidden, n_input]))\n",
    "b_decode = tf.Variable(tf.random_normal([n_input]))\n",
    "decoder = tf.nn.sigmoid(tf.add(tf.matmul(encoder, W_decode), b_decode))\n",
    "\n",
    "cost = tf.reduce_mean(tf.pow(X - decoder, 2))\n",
    "optimizer = tf.train.RMSPropOptimizer(learning_rate).minimize(cost)"
   ]
  },
  {
   "cell_type": "code",
   "execution_count": 2,
   "metadata": {},
   "outputs": [
    {
     "name": "stdout",
     "output_type": "stream",
     "text": [
      "Epoch: 0001 Avg. cost = 0.1990\n",
      "Epoch: 0002 Avg. cost = 0.0582\n",
      "Epoch: 0003 Avg. cost = 0.0459\n",
      "Epoch: 0004 Avg. cost = 0.0401\n",
      "Epoch: 0005 Avg. cost = 0.0359\n",
      "Epoch: 0006 Avg. cost = 0.0341\n",
      "Epoch: 0007 Avg. cost = 0.0323\n",
      "Epoch: 0008 Avg. cost = 0.0312\n",
      "Epoch: 0009 Avg. cost = 0.0295\n",
      "Epoch: 0010 Avg. cost = 0.0282\n",
      "Epoch: 0011 Avg. cost = 0.0277\n",
      "Epoch: 0012 Avg. cost = 0.0274\n",
      "Epoch: 0013 Avg. cost = 0.0272\n",
      "Epoch: 0014 Avg. cost = 0.0269\n",
      "Epoch: 0015 Avg. cost = 0.0265\n",
      "Epoch: 0016 Avg. cost = 0.0261\n",
      "Epoch: 0017 Avg. cost = 0.0251\n",
      "Epoch: 0018 Avg. cost = 0.0247\n",
      "Epoch: 0019 Avg. cost = 0.0246\n",
      "Epoch: 0020 Avg. cost = 0.0243\n",
      "Optimization Complete!\n"
     ]
    },
    {
     "data": {
      "image/png": "[encoded data removed]",
      "text/plain": [
       "<matplotlib.figure.Figure at 0x7f4a9e5cd358>"
      ]
     },
     "metadata": {},
     "output_type": "display_data"
    }
   ],
   "source": [
    "init = tf.global_variables_initializer()\n",
    "sess = tf.Session()\n",
    "sess.run(init)\n",
    "\n",
    "total_batch = int(mnist.train.num_examples / batch_size)\n",
    "\n",
    "for epoch in range(training_epoch):\n",
    "\ttotal_cost = 0\n",
    "\n",
    "\tfor i in range(total_batch):\n",
    "\t\tbatch_xs, batch_ys = mnist.train.next_batch(batch_size)\n",
    "\t\t_, cost_val = sess.run([optimizer, cost], feed_dict={X: batch_xs})\n",
    "\n",
    "\t\ttotal_cost += cost_val\n",
    "\n",
    "\tprint(\n",
    "\t\t'Epoch:', '%04d' % (epoch + 1),\n",
    "\t\t'Avg. cost =', '{:.4f}'.format(total_cost / total_batch)\n",
    "\t)\n",
    "\n",
    "print('Optimization Complete!')\n",
    "\n",
    "sample_size = 10\n",
    "\n",
    "samples = sess.run(decoder, feed_dict={X: mnist.test.images[:sample_size]})\n",
    "\n",
    "fig, ax = plt.subplots(2, sample_size, figsize=(sample_size, 2))\n",
    "\n",
    "for i in range(sample_size):\n",
    "\tax[0][i].set_axis_off()\n",
    "\tax[1][i].set_axis_off()\n",
    "\tax[0][i].imshow(np.reshape(mnist.test.images[i], (28, 28)))\n",
    "\tax[1][i].imshow(np.reshape(samples[i], (28, 28)))\n",
    "\n",
    "plt.show()"
   ]
  }
 ],
 "metadata": {
  "kernelspec": {
   "display_name": "Python 3",
   "language": "python",
   "name": "python3"
  },
  "language_info": {
   "codemirror_mode": {
    "name": "ipython",
    "version": 3
   },
   "file_extension": ".py",
   "mimetype": "text/x-python",
   "name": "python",
   "nbconvert_exporter": "python",
   "pygments_lexer": "ipython3",
   "version": "3.6.3"
  }
 },
 "nbformat": 4,
 "nbformat_minor": 2
}
