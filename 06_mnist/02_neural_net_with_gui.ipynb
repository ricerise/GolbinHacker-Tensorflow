{
 "cells": [
  {
   "cell_type": "code",
   "execution_count": 7,
   "metadata": {},
   "outputs": [
    {
     "name": "stdout",
     "output_type": "stream",
     "text": [
      "Extracting ./mnist/data/train-images-idx3-ubyte.gz\n",
      "Extracting ./mnist/data/train-labels-idx1-ubyte.gz\n",
      "Extracting ./mnist/data/t10k-images-idx3-ubyte.gz\n",
      "Extracting ./mnist/data/t10k-labels-idx1-ubyte.gz\n",
      "Epoch: 0001 Avg. cost = 0.427\n",
      "Epoch: 0002 Avg. cost = 0.164\n",
      "Epoch: 0003 Avg. cost = 0.114\n",
      "Epoch: 0004 Avg. cost = 0.088\n",
      "Epoch: 0005 Avg. cost = 0.071\n",
      "Epoch: 0006 Avg. cost = 0.061\n",
      "Epoch: 0007 Avg. cost = 0.051\n",
      "Epoch: 0008 Avg. cost = 0.046\n",
      "Epoch: 0009 Avg. cost = 0.042\n",
      "Epoch: 0010 Avg. cost = 0.037\n",
      "Epoch: 0011 Avg. cost = 0.035\n",
      "Epoch: 0012 Avg. cost = 0.029\n",
      "Epoch: 0013 Avg. cost = 0.027\n",
      "Epoch: 0014 Avg. cost = 0.027\n",
      "Epoch: 0015 Avg. cost = 0.026\n",
      "Optimization Complete!\n",
      "accuracy: 0.9811\n"
     ]
    }
   ],
   "source": [
    "#!/bin/env python\n",
    "\n",
    "import tensorflow as tf\n",
    "\n",
    "from tensorflow.examples.tutorials.mnist import input_data\n",
    "mnist = input_data.read_data_sets('./mnist/data/', one_hot=True)\n",
    "\n",
    "X = tf.placeholder(tf.float32, [None, 784])\n",
    "Y = tf.placeholder(tf.float32, [None, 10])\n",
    "keep_prob = tf.placeholder(tf.float32)\n",
    "\n",
    "W1 = tf.Variable(tf.random_normal([784, 256], stddev=0.01))\n",
    "L1 = tf.nn.relu(tf.matmul(X, W1))\n",
    "L1 = tf.nn.dropout(L1, keep_prob)\n",
    "\n",
    "W2 = tf.Variable(tf.random_normal([256, 256], stddev=0.01))\n",
    "L2 = tf.nn.relu(tf.matmul(L1, W2))\n",
    "L2 = tf.nn.dropout(L2, keep_prob)\n",
    "\n",
    "W3 = tf.Variable(tf.random_normal([256, 10], stddev=0.01))\n",
    "model = tf.matmul(L2, W3)\n",
    "\n",
    "cost = tf.reduce_mean(tf.nn.softmax_cross_entropy_with_logits(logits=model, labels=Y))\n",
    "optimizer = tf.train.AdamOptimizer(0.001).minimize(cost)\n",
    "\n",
    "init = tf.global_variables_initializer()\n",
    "sess = tf.Session()\n",
    "sess.run(init)\n",
    "\n",
    "batch_size = 100\n",
    "total_batch = int(mnist.train.num_examples / batch_size)\n",
    "for epoch in range(15):\n",
    "    total_cost = 0\n",
    "\n",
    "    for i in range(total_batch):\n",
    "        batch_xs, batch_ys = mnist.train.next_batch(batch_size)\n",
    "\n",
    "        _, cost_val = sess.run(\n",
    "                        [optimizer, cost],\n",
    "                        feed_dict={X: batch_xs, Y: batch_ys, keep_prob: 0.8},\n",
    "        )\n",
    "    \n",
    "        total_cost += cost_val\n",
    "\n",
    "    print(\n",
    "        'Epoch:', '%04d' % (epoch + 1),\n",
    "        'Avg. cost =', '{:.3f}'.format(total_cost / total_batch)\n",
    "    )\n",
    "\n",
    "print('Optimization Complete!')\n",
    "\n",
    "is_correct = tf.equal(tf.argmax(model, 1), tf.argmax(Y, 1))\n",
    "accuracy = tf.reduce_mean(tf.cast(is_correct, tf.float32))\n",
    "print(\n",
    "    'accuracy:', \n",
    "    sess.run(\n",
    "            accuracy,\n",
    "            feed_dict={X: mnist.test.images, Y: mnist.test.labels, keep_prob: 1.0}\n",
    "    )\n",
    ")"
   ]
  },
  {
   "cell_type": "code",
   "execution_count": 8,
   "metadata": {},
   "outputs": [
    {
     "data": {
      "image/png": "[encoded data removed]",
      "text/plain": [
       "<matplotlib.figure.Figure at 0x7f76c43d6ef0>"
      ]
     },
     "metadata": {},
     "output_type": "display_data"
    }
   ],
   "source": [
    "import numpy as np\n",
    "import matplotlib.pyplot as plt\n",
    "    \n",
    "labels = sess.run(\n",
    "        model, \n",
    "        feed_dict={\n",
    "            X: mnist.test.images,\n",
    "            Y: mnist.test.labels,\n",
    "            keep_prob: 1}\n",
    ")\n",
    "\n",
    "fig = plt.figure()\n",
    "for i in range(10):\n",
    "    subplot = fig.add_subplot(2, 5, i + 1)\n",
    "    subplot.set_xticks([])\n",
    "    subplot.set_yticks([])\n",
    "    subplot.set_title('%d' % np.argmax(labels[i]))\n",
    "    subplot.imshow(mnist.test.images[i].reshape((28, 28)),\n",
    "                   cmap=plt.cm.gray_r)\n",
    "    \n",
    "plt.show()"
   ]
  },
  {
   "cell_type": "code",
   "execution_count": 9,
   "metadata": {
    "collapsed": true
   },
   "outputs": [],
   "source": [
    "sess.close()"
   ]
  }
 ],
 "metadata": {
  "kernelspec": {
   "display_name": "Python 3",
   "language": "python",
   "name": "python3"
  },
  "language_info": {
   "codemirror_mode": {
    "name": "ipython",
    "version": 3
   },
   "file_extension": ".py",
   "mimetype": "text/x-python",
   "name": "python",
   "nbconvert_exporter": "python",
   "pygments_lexer": "ipython3",
   "version": "3.6.3"
  }
 },
 "nbformat": 4,
 "nbformat_minor": 2
}
